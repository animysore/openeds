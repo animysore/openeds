{
 "cells": [
  {
   "cell_type": "code",
   "execution_count": 1,
   "metadata": {},
   "outputs": [
    {
     "name": "stderr",
     "output_type": "stream",
     "text": [
      "/Users/adishrao/anaconda3/lib/python3.6/site-packages/matplotlib/__init__.py:886: MatplotlibDeprecationWarning: \n",
      "examples.directory is deprecated; in the future, examples will be found relative to the 'datapath' directory.\n",
      "  \"found relative to the 'datapath' directory.\".format(key))\n"
     ]
    }
   ],
   "source": [
    "import os\n",
    "import cv2\n",
    "import numpy as np\n",
    "import matplotlib.pyplot as plt\n",
    "import seaborn as sns\n",
    "sns.set_style(\"whitegrid\", {'axes.grid' : False})"
   ]
  },
  {
   "cell_type": "code",
   "execution_count": 2,
   "metadata": {},
   "outputs": [],
   "source": [
    "basedir = '/Users/adishrao/Desktop/FB/fbdata/'\n",
    "img_dir_org = basedir\n",
    "image_paths = open(basedir+'/images.txt').read().split()\n",
    "label_paths = open(basedir+'/labels.txt').read().split()\n",
    "\n",
    "labelled_image_paths = []\n",
    "\n",
    "for lbl in label_paths:\n",
    "    folder, label_file = lbl.split('/')\n",
    "    image_file = label_file[6:-4]\n",
    "    image_path = '/'.join([folder,image_file]) + '.png'\n",
    "    \n",
    "    if image_path not in image_paths: \n",
    "        print('Error! We seem to have made a wrong image path: ', image_path)\n",
    "    \n",
    "    labelled_image_paths.append(image_path)"
   ]
  },
  {
   "cell_type": "code",
   "execution_count": 3,
   "metadata": {},
   "outputs": [],
   "source": [
    "images_org = sorted(labelled_image_paths)\n",
    "labels_org = sorted(label_paths)\n",
    "\n",
    "\n",
    "width, height = 160, 96\n",
    "nc = 4\n",
    "X_org = []\n",
    "Y_org = []   \n",
    "        \n",
    "for img_path, lbl_path in list(zip(images_org,labels_org))[:]:\n",
    "    try:\n",
    "        # load image and label, resize, append\n",
    "        img1 = cv2.imread(basedir + img_path)\n",
    "        img1 = np.float32(img1)/255 # - 1 #averagin values. sohuld we remove?\n",
    "        X_org.append(img1)\n",
    "        lbl = np.load(basedir + lbl_path)\n",
    "        Y_org.append(lbl)\n",
    "    except Exception as e:\n",
    "        print(e)\n",
    "X_org , Y_org = np.array(X_org) , np.array(Y_org)"
   ]
  },
  {
   "cell_type": "code",
   "execution_count": 4,
   "metadata": {},
   "outputs": [],
   "source": [
    "def find_middle(X):\n",
    "    for i,r in enumerate(X):\n",
    "        if 3 in r:\n",
    "            break\n",
    "    rowstart  = i\n",
    "    for i,r in enumerate(X[::-1]):\n",
    "        if 3 in r:\n",
    "            break\n",
    "    rowend  = 95 - i\n",
    "    \n",
    "    for j in range(160):\n",
    "        if 3 in X[:,j]:\n",
    "            break\n",
    "    colstart = j\n",
    "    colend = 0\n",
    "    for r in X:\n",
    "        for index,j in enumerate(r):\n",
    "            if j == 3:\n",
    "                if index>colend:\n",
    "                    colend = index\n",
    "    return (int((rowstart+rowend)/2), int((colstart+colend)/2) )"
   ]
  },
  {
   "cell_type": "code",
   "execution_count": 5,
   "metadata": {},
   "outputs": [],
   "source": [
    "xy_list = []\n",
    "X_eyes = []\n",
    "Y_eyes = []\n",
    "i = 0\n",
    "for predict,img,labels in zip(Y_org,X_org,Y_org):\n",
    "    midY, midX = find_middle(predict)\n",
    "    if midX <16:\n",
    "        midX = 16\n",
    "    if midX > (159-16):\n",
    "        midX = 159 - 16\n",
    "    if midY <16:\n",
    "        midY = 16\n",
    "    if midY > (95-16):\n",
    "        midY = 95 - 16\n",
    "    new_X = img[(midY-16):(midY+16),(midX-16):(midX+16)]\n",
    "    new_Y = labels[(midY-16):(midY+16),(midX-16):(midX+16)]\n",
    "    if new_X.shape != (32,32,3):\n",
    "        print(i,new_X.shape)\n",
    "    X_eyes.append(new_X)\n",
    "    Y_eyes.append(new_Y)\n",
    "    i+=1\n",
    "    xy_list.append([midX,midY])\n",
    "X_eyes = np.array(X_eyes)\n",
    "Y_eyes = np.array(Y_eyes)"
   ]
  },
  {
   "cell_type": "code",
   "execution_count": 6,
   "metadata": {},
   "outputs": [
    {
     "data": {
      "text/plain": [
       "<matplotlib.image.AxesImage at 0x1a33179710>"
      ]
     },
     "execution_count": 6,
     "metadata": {},
     "output_type": "execute_result"
    },
    {
     "data": {
      "image/png": "[encoded data removed]",
      "text/plain": [
       "<Figure size 432x288 with 1 Axes>"
      ]
     },
     "metadata": {
      "needs_background": "light"
     },
     "output_type": "display_data"
    }
   ],
   "source": [
    "plt.imshow(X_org[0])"
   ]
  },
  {
   "cell_type": "code",
   "execution_count": 10,
   "metadata": {},
   "outputs": [],
   "source": [
    "for row in Y_eyes:\n",
    "    for i in row:\n",
    "        for index, item in enumerate(i):\n",
    "            if item != 3:\n",
    "                i[index] = 0\n",
    "            else:\n",
    "                i[index] = 1"
   ]
  },
  {
   "cell_type": "code",
   "execution_count": 7,
   "metadata": {},
   "outputs": [
    {
     "data": {
      "text/plain": [
       "<matplotlib.image.AxesImage at 0x10bace128>"
      ]
     },
     "execution_count": 7,
     "metadata": {},
     "output_type": "execute_result"
    },
    {
     "data": {
      "image/png": "[encoded data removed]",
      "text/plain": [
       "<Figure size 432x288 with 1 Axes>"
      ]
     },
     "metadata": {
      "needs_background": "light"
     },
     "output_type": "display_data"
    }
   ],
   "source": [
    "plt.imshow(X_eyes[30])"
   ]
  },
  {
   "cell_type": "code",
   "execution_count": 9,
   "metadata": {},
   "outputs": [
    {
     "data": {
      "text/plain": [
       "<matplotlib.image.AxesImage at 0x1a28714438>"
      ]
     },
     "execution_count": 9,
     "metadata": {},
     "output_type": "execute_result"
    },
    {
     "data": {
      "image/png": "[encoded data removed]",
      "text/plain": [
       "<Figure size 432x288 with 1 Axes>"
      ]
     },
     "metadata": {
      "needs_background": "light"
     },
     "output_type": "display_data"
    }
   ],
   "source": [
    "plt.imshow(Y_eyes[30])"
   ]
  },
  {
   "cell_type": "code",
   "execution_count": 12,
   "metadata": {},
   "outputs": [],
   "source": [
    "import matplotlib\n",
    "save_path = '/Users/adishrao/Desktop/FB/fbdata eyes/'\n",
    "save_path_1 = '/Users/adishrao/Desktop/FB/fbdata eyes/'\n",
    "i = 0\n",
    "for img_path,label_path,x_val,y_val in zip(images_org,labels_org,X_eyes,Y_eyes):\n",
    "    try:\n",
    "        if not os.path.exists(save_path+img_path[:img_path.index('/')]):\n",
    "            os.makedirs(save_path+img_path[:img_path.index('/')])\n",
    "        matplotlib.image.imsave(save_path+img_path, cv2.cvtColor(x_val, cv2.COLOR_BGR2RGB))\n",
    "        np.save(save_path_1+label_path,y_val)\n",
    "    except Exception as e:\n",
    "        print(e)\n",
    "        print(img_path,i)\n",
    "    i+=1"
   ]
  },
  {
   "cell_type": "code",
   "execution_count": null,
   "metadata": {},
   "outputs": [],
   "source": []
  }
 ],
 "metadata": {
  "kernelspec": {
   "display_name": "Python 3",
   "language": "python",
   "name": "python3"
  },
  "language_info": {
   "codemirror_mode": {
    "name": "ipython",
    "version": 3
   },
   "file_extension": ".py",
   "mimetype": "text/x-python",
   "name": "python",
   "nbconvert_exporter": "python",
   "pygments_lexer": "ipython3",
   "version": "3.6.7"
  }
 },
 "nbformat": 4,
 "nbformat_minor": 2
}
