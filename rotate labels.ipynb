{
 "cells": [
  {
   "cell_type": "code",
   "execution_count": 1,
   "metadata": {},
   "outputs": [],
   "source": [
    "import os\n",
    "import cv2\n",
    "import numpy as np\n",
    "import matplotlib.pyplot as plt"
   ]
  },
  {
   "cell_type": "code",
   "execution_count": null,
   "metadata": {},
   "outputs": [],
   "source": [
    "dataset_dir_original = '/Users/adishrao/Desktop/FB/Semantic_Segmentation_Dataset'\n",
    "img_dir_org = dataset_dir_original + '/validation/images/'\n",
    "label_dir_org = dataset_dir_original + '/validation/labels/'"
   ]
  },
  {
   "cell_type": "code",
   "execution_count": null,
   "metadata": {},
   "outputs": [],
   "source": [
    "images_org = sorted(os.listdir(img_dir_org))\n",
    "labels_org = sorted(os.listdir(label_dir_org))\n",
    "if labels_org[0] == '.npy':\n",
    "    labels_org.pop(0)\n",
    "\n",
    "if images_org[0] == '.DS_Store':\n",
    "    images_org.remove('.DS_Store')\n",
    "\n",
    "X_org = []\n",
    "Y_org = []   \n",
    "        \n",
    "for img_path, lbl_path in list(zip(images_org,labels_org))[:]:\n",
    "    try:\n",
    "        # load image and label, resize, append\n",
    "        img1 = cv2.imread(img_dir_org + img_path)\n",
    "        img1 = np.float32(img1)/255 # - 1 #averagin values. sohuld we remove?\n",
    "        X_org.append(img1)\n",
    "        lbl = np.load(label_dir_org + lbl_path)\n",
    "        lbl = cv2.rotate(lbl, cv2.ROTATE_90_CLOCKWISE)\n",
    "        Y_org.append(lbl)\n",
    "    except Exception as e:\n",
    "        print(e)\n",
    "X_org , Y_org = np.array(X_org) , np.array(Y_org)"
   ]
  },
  {
   "cell_type": "code",
   "execution_count": null,
   "metadata": {},
   "outputs": [],
   "source": [
    "save_path = '/Users/adishrao/Desktop/FB/rotated images/labels/'\n",
    "i = 0\n",
    "for img_path,x_val,y_val in zip(images_org,X_org,Y_org):\n",
    "    try:\n",
    "        np.save(save_path+img_path[:-4],y_val)\n",
    "    except Exception as e:\n",
    "        print(e)\n",
    "        print(img_path,i)\n",
    "    i+=1"
   ]
  },
  {
   "cell_type": "code",
   "execution_count": null,
   "metadata": {},
   "outputs": [],
   "source": []
  },
  {
   "cell_type": "code",
   "execution_count": null,
   "metadata": {},
   "outputs": [],
   "source": [
    "images_org = (open(\"Openedsdata2020/openEDS2020-SparseSegmentation/participant/images.txt\").read().split('\\n'))"
   ]
  },
  {
   "cell_type": "code",
   "execution_count": null,
   "metadata": {},
   "outputs": [],
   "source": [
    "labels_org = (open(\"Openedsdata2020/openEDS2020-SparseSegmentation/participant/labels.txt\").read().split('\\n'))"
   ]
  },
  {
   "cell_type": "code",
   "execution_count": null,
   "metadata": {},
   "outputs": [],
   "source": [
    "s = labels_org[0][:labels_org[0].index('/')]\n",
    "s"
   ]
  },
  {
   "cell_type": "code",
   "execution_count": 2,
   "metadata": {},
   "outputs": [],
   "source": [
    "dataset_dir_original = 'Openedsdata2020/openEDS2020-SparseSegmentation/participant/'\n",
    "images_org = (open(\"Openedsdata2020/openEDS2020-SparseSegmentation/participant/images.txt\").read().split('\\n'))\n",
    "labels_org = (open(\"Openedsdata2020/openEDS2020-SparseSegmentation/participant/labels.txt\").read().split('\\n'))\n",
    "\n",
    "labels_org.remove('')\n",
    "\n",
    "images_org.remove('')\n",
    "\n",
    "width, height = 160, 96\n",
    "X_org = []\n",
    "Y_org = []   \n",
    "        \n",
    "for img_path in images_org:\n",
    "    try:\n",
    "        img1 = cv2.imread(dataset_dir_original + img_path)\n",
    "        img1 = cv2.resize(img1, (width, height)) \n",
    "        X_org.append(img1)\n",
    "    except Exception as e:\n",
    "        print(e)\n",
    "        print(img_path)\n",
    "\n",
    "for lbl_path in labels_org:\n",
    "    try:\n",
    "        lbl = np.load(dataset_dir_original + lbl_path)\n",
    "        lbl = cv2.resize(lbl, (width, height)) \n",
    "        Y_org.append(lbl)\n",
    "    except Exception as e:\n",
    "        print(e)\n",
    "        print(lbl_path)\n",
    "    \n",
    "X_org , Y_org = np.array(X_org) , np.array(Y_org)"
   ]
  },
  {
   "cell_type": "code",
   "execution_count": 6,
   "metadata": {},
   "outputs": [],
   "source": [
    "import matplotlib\n",
    "i = 0\n",
    "save_path = '/Users/adishrao/Desktop/FB/fbdata/'\n",
    "for img_path,x_val in zip(images_org,X_org):\n",
    "    try:\n",
    "        if not os.path.exists(save_path+img_path[:img_path.index('/')]):\n",
    "            os.makedirs(save_path+img_path[:img_path.index('/')])\n",
    "        matplotlib.image.imsave(save_path+img_path, cv2.cvtColor(x_val, cv2.COLOR_BGR2RGB))\n",
    "    except Exception as e:\n",
    "        print(e)\n",
    "        print(img_path,i)\n",
    "    i+=1\n",
    "    \n",
    "save_path_1 = '/Users/adishrao/Desktop/FB/fbdata/'\n",
    "i = 0\n",
    "for img_path,y_val in zip(labels_org,Y_org):\n",
    "    try:\n",
    "        np.save(save_path_1+img_path,y_val)\n",
    "    except Exception as e:\n",
    "        print(e)\n",
    "        print(img_path,i)\n",
    "    i+=1"
   ]
  },
  {
   "cell_type": "code",
   "execution_count": null,
   "metadata": {},
   "outputs": [],
   "source": []
  }
 ],
 "metadata": {
  "kernelspec": {
   "display_name": "Python 3",
   "language": "python",
   "name": "python3"
  },
  "language_info": {
   "codemirror_mode": {
    "name": "ipython",
    "version": 3
   },
   "file_extension": ".py",
   "mimetype": "text/x-python",
   "name": "python",
   "nbconvert_exporter": "python",
   "pygments_lexer": "ipython3",
   "version": "3.6.7"
  }
 },
 "nbformat": 4,
 "nbformat_minor": 2
}
