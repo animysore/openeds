{
 "cells": [
  {
   "cell_type": "code",
   "execution_count": 2,
   "metadata": {},
   "outputs": [
    {
     "name": "stderr",
     "output_type": "stream",
     "text": [
      "/Users/adishrao/anaconda3/lib/python3.6/site-packages/matplotlib/__init__.py:886: MatplotlibDeprecationWarning: \n",
      "examples.directory is deprecated; in the future, examples will be found relative to the 'datapath' directory.\n",
      "  \"found relative to the 'datapath' directory.\".format(key))\n",
      "Using TensorFlow backend.\n"
     ]
    }
   ],
   "source": [
    "import os\n",
    "import cv2\n",
    "import numpy as np\n",
    "import matplotlib.pyplot as plt\n",
    "import seaborn as sns\n",
    "sns.set_style(\"whitegrid\", {'axes.grid' : False})\n",
    "from keras.models import load_model"
   ]
  },
  {
   "cell_type": "code",
   "execution_count": 3,
   "metadata": {},
   "outputs": [],
   "source": [
    "model_image = load_model('fb_temp_3.h5')\n",
    "model_eyes = load_model('eyes_only_addmult_Adam.h5')"
   ]
  },
  {
   "cell_type": "code",
   "execution_count": 3,
   "metadata": {},
   "outputs": [],
   "source": [
    "dataset_dir = 'small_size_data'\n",
    "label_dir = dataset_dir + '/validation/labels/'\n",
    "img_dir = dataset_dir + '/validation/images/'"
   ]
  },
  {
   "cell_type": "code",
   "execution_count": 4,
   "metadata": {},
   "outputs": [],
   "source": [
    "images = sorted(os.listdir(img_dir))\n",
    "labels = sorted(os.listdir(label_dir))\n",
    "# mac specific .DS_STORE \n",
    "if images[0] == '.DS_Store':\n",
    "    images.remove('.DS_Store')\n",
    "if labels[0] == '.npy':\n",
    "    labels.pop(0)"
   ]
  },
  {
   "cell_type": "code",
   "execution_count": 5,
   "metadata": {},
   "outputs": [],
   "source": [
    "X = []\n",
    "Y = []\n",
    "for img_path,lbl_path in zip(images,labels):\n",
    "    # load image and label, resize, append\n",
    "    img = cv2.imread(img_dir + img_path)\n",
    "    img = np.float32(img) / 255\n",
    "    X.append(img)\n",
    "    lbl = np.load(label_dir + lbl_path)\n",
    "    Y.append(lbl)        \n",
    "X = np.array(X)\n",
    "Y = np.array(Y)"
   ]
  },
  {
   "cell_type": "code",
   "execution_count": 6,
   "metadata": {},
   "outputs": [],
   "source": [
    "initial_predict = model_image.predict(X)\n",
    "initial_predict = np.argmax(initial_predict, axis=3)"
   ]
  },
  {
   "cell_type": "code",
   "execution_count": 7,
   "metadata": {},
   "outputs": [
    {
     "name": "stderr",
     "output_type": "stream",
     "text": [
      "/Users/adishrao/anaconda3/lib/python3.6/site-packages/ipykernel_launcher.py:16: FutureWarning: Using a non-tuple sequence for multidimensional indexing is deprecated; use `arr[tuple(seq)]` instead of `arr[seq]`. In the future this will be interpreted as an array index, `arr[np.array(seq)]`, which will result either in an error or a different result.\n",
      "  app.launch_new_instance()\n"
     ]
    }
   ],
   "source": [
    "from scipy.ndimage.measurements import label\n",
    " \n",
    "structure = np.ones((3, 3), dtype=np.int)\n",
    "  \n",
    "for pred in initial_predict:\n",
    "    pred_copy = np.copy(pred)\n",
    "    pred_copy[ pred_copy > 0 ] = 1\n",
    " \n",
    "    labeled, ncomponents = label(pred_copy, structure)\n",
    "    unique, counts = np.unique(labeled, return_counts=True)\n",
    "    unique = list(unique)\n",
    "    counts = list(counts)\n",
    "    unique.pop(0)\n",
    "    counts.pop(0)\n",
    "    largest = counts.index(max(counts))\n",
    "    pred[[labeled!=(largest+1)]] = 0"
   ]
  },
  {
   "cell_type": "code",
   "execution_count": 8,
   "metadata": {},
   "outputs": [],
   "source": [
    "def find_middle(X):\n",
    "    for i,r in enumerate(X):\n",
    "        if 2 in r:\n",
    "            break\n",
    "    rowstart  = i\n",
    "    for i,r in enumerate(X[::-1]):\n",
    "        if 2 in r:\n",
    "            break\n",
    "    rowend  = 159 - i\n",
    "    \n",
    "    for j in range(96):\n",
    "        if 2 in X[:,j]:\n",
    "            break\n",
    "    colstart = j\n",
    "    colend = 0\n",
    "    for r in X:\n",
    "        for index,j in enumerate(r):\n",
    "            if j == 2:\n",
    "                if index>colend:\n",
    "                    colend = index\n",
    "    return (rowstart,rowend,colstart,colend)"
   ]
  },
  {
   "cell_type": "code",
   "execution_count": 1,
   "metadata": {},
   "outputs": [
    {
     "ename": "NameError",
     "evalue": "name 'initial_predict' is not defined",
     "output_type": "error",
     "traceback": [
      "\u001b[0;31m---------------------------------------------------------------------------\u001b[0m",
      "\u001b[0;31mNameError\u001b[0m                                 Traceback (most recent call last)",
      "\u001b[0;32m<ipython-input-1-5c9ae632a4e9>\u001b[0m in \u001b[0;36m<module>\u001b[0;34m\u001b[0m\n\u001b[1;32m      2\u001b[0m \u001b[0mX_eyes\u001b[0m \u001b[0;34m=\u001b[0m \u001b[0;34m[\u001b[0m\u001b[0;34m]\u001b[0m\u001b[0;34m\u001b[0m\u001b[0;34m\u001b[0m\u001b[0m\n\u001b[1;32m      3\u001b[0m \u001b[0mi\u001b[0m \u001b[0;34m=\u001b[0m \u001b[0;36m0\u001b[0m\u001b[0;34m\u001b[0m\u001b[0;34m\u001b[0m\u001b[0m\n\u001b[0;32m----> 4\u001b[0;31m \u001b[0;32mfor\u001b[0m \u001b[0mpredict\u001b[0m\u001b[0;34m,\u001b[0m\u001b[0mimg\u001b[0m \u001b[0;32min\u001b[0m \u001b[0mzip\u001b[0m\u001b[0;34m(\u001b[0m\u001b[0minitial_predict\u001b[0m\u001b[0;34m,\u001b[0m\u001b[0mX\u001b[0m\u001b[0;34m)\u001b[0m\u001b[0;34m:\u001b[0m\u001b[0;34m\u001b[0m\u001b[0;34m\u001b[0m\u001b[0m\n\u001b[0m\u001b[1;32m      5\u001b[0m     \u001b[0mrowstart\u001b[0m\u001b[0;34m,\u001b[0m\u001b[0mrowend\u001b[0m\u001b[0;34m,\u001b[0m\u001b[0mcolstart\u001b[0m\u001b[0;34m,\u001b[0m\u001b[0mcolend\u001b[0m \u001b[0;34m=\u001b[0m \u001b[0mfind_middle\u001b[0m\u001b[0;34m(\u001b[0m\u001b[0mpredict\u001b[0m\u001b[0;34m)\u001b[0m\u001b[0;34m\u001b[0m\u001b[0;34m\u001b[0m\u001b[0m\n\u001b[1;32m      6\u001b[0m     \u001b[0mmidY\u001b[0m\u001b[0;34m,\u001b[0m \u001b[0mmidX\u001b[0m \u001b[0;34m=\u001b[0m \u001b[0mint\u001b[0m\u001b[0;34m(\u001b[0m\u001b[0;34m(\u001b[0m\u001b[0mrowstart\u001b[0m\u001b[0;34m+\u001b[0m\u001b[0mrowend\u001b[0m\u001b[0;34m)\u001b[0m\u001b[0;34m/\u001b[0m\u001b[0;36m2\u001b[0m\u001b[0;34m)\u001b[0m\u001b[0;34m,\u001b[0m \u001b[0mint\u001b[0m\u001b[0;34m(\u001b[0m\u001b[0;34m(\u001b[0m\u001b[0mcolstart\u001b[0m\u001b[0;34m+\u001b[0m\u001b[0mcolend\u001b[0m\u001b[0;34m)\u001b[0m\u001b[0;34m/\u001b[0m\u001b[0;36m2\u001b[0m\u001b[0;34m)\u001b[0m\u001b[0;34m\u001b[0m\u001b[0;34m\u001b[0m\u001b[0m\n",
      "\u001b[0;31mNameError\u001b[0m: name 'initial_predict' is not defined"
     ]
    }
   ],
   "source": [
    "xy_list = []\n",
    "X_eyes = []\n",
    "i = 0\n",
    "for predict,img in zip(initial_predict,X):\n",
    "    rowstart,rowend,colstart,colend = find_middle(predict)\n",
    "    midY, midX = int((rowstart+rowend)/2), int((colstart+colend)/2)\n",
    "    if midX <16:\n",
    "        midX = 16\n",
    "    if midX > (95-16):\n",
    "        midX = 95 - 16\n",
    "    new_X = img[(midY-16):(midY+16),(midX-16):(midX+16)]\n",
    "    if new_X.shape != (32,32,3):\n",
    "        print(i,new_X.shape)\n",
    "    X_eyes.append(new_X)\n",
    "    i+=1\n",
    "    xy_list.append([midX,midY])\n",
    "X_eyes = np.array(X_eyes)"
   ]
  },
  {
   "cell_type": "code",
   "execution_count": 10,
   "metadata": {},
   "outputs": [
    {
     "name": "stdout",
     "output_type": "stream",
     "text": [
      "[32, 61]\n"
     ]
    },
    {
     "data": {
      "image/png": "[encoded data removed]",
      "text/plain": [
       "<Figure size 432x288 with 1 Axes>"
      ]
     },
     "metadata": {
      "needs_background": "light"
     },
     "output_type": "display_data"
    }
   ],
   "source": [
    "plt.imshow(initial_predict[0])\n",
    "print(xy_list[0])"
   ]
  },
  {
   "cell_type": "code",
   "execution_count": 10,
   "metadata": {},
   "outputs": [],
   "source": [
    "initial_eye_predict = model_eyes.predict(X_eyes)\n",
    "initial_eye_predict = np.argmax(initial_eye_predict, axis=3)"
   ]
  },
  {
   "cell_type": "code",
   "execution_count": 12,
   "metadata": {
    "scrolled": true
   },
   "outputs": [
    {
     "data": {
      "text/plain": [
       "<matplotlib.image.AxesImage at 0x1a30521128>"
      ]
     },
     "execution_count": 12,
     "metadata": {},
     "output_type": "execute_result"
    },
    {
     "data": {
      "image/png": "[encoded data removed]",
      "text/plain": [
       "<Figure size 432x288 with 1 Axes>"
      ]
     },
     "metadata": {
      "needs_background": "light"
     },
     "output_type": "display_data"
    }
   ],
   "source": [
    "plt.imshow(initial_eye_predict[0])"
   ]
  },
  {
   "cell_type": "code",
   "execution_count": 11,
   "metadata": {},
   "outputs": [],
   "source": [
    "for (predict,eye,(midx,midy)) in zip(initial_predict,initial_eye_predict,xy_list):\n",
    "    i,j=0,0\n",
    "    for row in range(midy-16,midy+16):\n",
    "        j=0\n",
    "        for col in range(midx-16,midx+16):\n",
    "            if eye[i][j]==1:\n",
    "                predict[row][col] = 3 \n",
    "            j+=1\n",
    "        i+=1"
   ]
  },
  {
   "cell_type": "code",
   "execution_count": 13,
   "metadata": {},
   "outputs": [
    {
     "data": {
      "text/plain": [
       "<matplotlib.image.AxesImage at 0x1a37bdd2b0>"
      ]
     },
     "execution_count": 13,
     "metadata": {},
     "output_type": "execute_result"
    },
    {
     "data": {
      "image/png": "[encoded data removed]",
      "text/plain": [
       "<Figure size 432x288 with 1 Axes>"
      ]
     },
     "metadata": {
      "needs_background": "light"
     },
     "output_type": "display_data"
    }
   ],
   "source": [
    "plt.imshow(initial_predict[0])"
   ]
  },
  {
   "cell_type": "code",
   "execution_count": 42,
   "metadata": {},
   "outputs": [
    {
     "data": {
      "text/plain": [
       "<matplotlib.image.AxesImage at 0x1a36ef9358>"
      ]
     },
     "execution_count": 42,
     "metadata": {},
     "output_type": "execute_result"
    },
    {
     "data": {
      "text/plain": [
       "<matplotlib.image.AxesImage at 0x1a36ef9358>"
      ]
     },
     "execution_count": 42,
     "metadata": {},
     "output_type": "execute_result"
    },
    {
     "data": {
      "image/png": "[encoded data removed]",
      "text/plain": [
       "<Figure size 432x288 with 1 Axes>"
      ]
     },
     "metadata": {
      "needs_background": "light"
     },
     "output_type": "display_data"
    },
    {
     "data": {
      "image/png": "[encoded data removed]",
      "text/plain": [
       "<Figure size 432x288 with 1 Axes>"
      ]
     },
     "metadata": {
      "needs_background": "light"
     },
     "output_type": "display_data"
    }
   ],
   "source": [
    "plt.imshow(X[100])"
   ]
  },
  {
   "cell_type": "code",
   "execution_count": 12,
   "metadata": {},
   "outputs": [
    {
     "name": "stdout",
     "output_type": "stream",
     "text": [
      "class 00: #TP=30741405, #FP=133015, #FN=175978, IoU=0.990\n",
      "class 01: #TP=2645314, #FP=242249, #FN=152621, IoU=0.870\n",
      "class 02: #TP=2712048, #FP= 83647, #FN=146916, IoU=0.922\n",
      "class 03: #TP=324924, #FP= 27478, #FN=10874, IoU=0.894\n",
      "_________________\n",
      "Mean IoU: 0.919\n"
     ]
    }
   ],
   "source": [
    "def IoU(Yi,y_predi):\n",
    "    ## mean Intersection over Union\n",
    "    ## Mean IoU = TP/(FN + TP + FP)\n",
    "\n",
    "    IoUs = []\n",
    "    Nclass = int(np.max(Yi)) + 1\n",
    "    for c in range(Nclass):\n",
    "        TP = np.sum( (Yi == c)&(y_predi==c) )\n",
    "        FP = np.sum( (Yi != c)&(y_predi==c) )\n",
    "        FN = np.sum( (Yi == c)&(y_predi != c)) \n",
    "        IoU = TP/float(TP + FP + FN)\n",
    "        print(\"class {:02.0f}: #TP={:6.0f}, #FP={:6.0f}, #FN={:5.0f}, IoU={:4.3f}\".format(c,TP,FP,FN,IoU))\n",
    "        IoUs.append(IoU)\n",
    "    mIoU = np.mean(IoUs)\n",
    "    print(\"_________________\")\n",
    "    print(\"Mean IoU: {:4.3f}\".format(mIoU))\n",
    "    \n",
    "IoU(initial_predict,Y)"
   ]
  },
  {
   "cell_type": "code",
   "execution_count": null,
   "metadata": {},
   "outputs": [],
   "source": [
    "Mean IoU: 0.942\n",
    "submitted: 0.936"
   ]
  },
  {
   "cell_type": "code",
   "execution_count": 13,
   "metadata": {},
   "outputs": [
    {
     "data": {
      "text/plain": [
       "<matplotlib.image.AxesImage at 0x1a346c2518>"
      ]
     },
     "execution_count": 13,
     "metadata": {},
     "output_type": "execute_result"
    },
    {
     "data": {
      "image/png": "[encoded data removed]",
      "text/plain": [
       "<Figure size 432x288 with 1 Axes>"
      ]
     },
     "metadata": {
      "needs_background": "light"
     },
     "output_type": "display_data"
    }
   ],
   "source": [
    "plt.imshow(X[200])"
   ]
  },
  {
   "cell_type": "code",
   "execution_count": 14,
   "metadata": {},
   "outputs": [
    {
     "data": {
      "text/plain": [
       "<matplotlib.image.AxesImage at 0x1a34753b00>"
      ]
     },
     "execution_count": 14,
     "metadata": {},
     "output_type": "execute_result"
    },
    {
     "data": {
      "image/png": "[encoded data removed]",
      "text/plain": [
       "<Figure size 432x288 with 1 Axes>"
      ]
     },
     "metadata": {
      "needs_background": "light"
     },
     "output_type": "display_data"
    }
   ],
   "source": [
    "plt.imshow(X_eyes[200])"
   ]
  },
  {
   "cell_type": "code",
   "execution_count": 15,
   "metadata": {},
   "outputs": [
    {
     "data": {
      "text/plain": [
       "<matplotlib.image.AxesImage at 0x1a353857b8>"
      ]
     },
     "execution_count": 15,
     "metadata": {},
     "output_type": "execute_result"
    },
    {
     "data": {
      "image/png": "[encoded data removed]",
      "text/plain": [
       "<Figure size 432x288 with 1 Axes>"
      ]
     },
     "metadata": {
      "needs_background": "light"
     },
     "output_type": "display_data"
    }
   ],
   "source": [
    "plt.imshow(initial_eye_predict[200])"
   ]
  },
  {
   "cell_type": "code",
   "execution_count": 17,
   "metadata": {},
   "outputs": [
    {
     "data": {
      "text/plain": [
       "<matplotlib.image.AxesImage at 0x1a351b1e48>"
      ]
     },
     "execution_count": 17,
     "metadata": {},
     "output_type": "execute_result"
    },
    {
     "data": {
      "image/png": "[encoded data removed]",
      "text/plain": [
       "<Figure size 432x288 with 1 Axes>"
      ]
     },
     "metadata": {
      "needs_background": "light"
     },
     "output_type": "display_data"
    }
   ],
   "source": [
    "plt.imshow(initial_predict[200])"
   ]
  },
  {
   "cell_type": "code",
   "execution_count": null,
   "metadata": {},
   "outputs": [],
   "source": []
  },
  {
   "cell_type": "code",
   "execution_count": null,
   "metadata": {},
   "outputs": [],
   "source": []
  },
  {
   "cell_type": "code",
   "execution_count": null,
   "metadata": {},
   "outputs": [],
   "source": []
  },
  {
   "cell_type": "code",
   "execution_count": null,
   "metadata": {},
   "outputs": [],
   "source": []
  },
  {
   "cell_type": "markdown",
   "metadata": {},
   "source": [
    "# Submission"
   ]
  },
  {
   "cell_type": "code",
   "execution_count": 1,
   "metadata": {},
   "outputs": [
    {
     "name": "stderr",
     "output_type": "stream",
     "text": [
      "/Users/adishrao/anaconda3/lib/python3.6/site-packages/matplotlib/__init__.py:886: MatplotlibDeprecationWarning: \n",
      "examples.directory is deprecated; in the future, examples will be found relative to the 'datapath' directory.\n",
      "  \"found relative to the 'datapath' directory.\".format(key))\n",
      "Using TensorFlow backend.\n"
     ]
    }
   ],
   "source": [
    "import os\n",
    "import cv2\n",
    "import numpy as np\n",
    "import matplotlib.pyplot as plt\n",
    "import seaborn as sns\n",
    "sns.set_style(\"whitegrid\", {'axes.grid' : False})\n",
    "from keras.models import load_model"
   ]
  },
  {
   "cell_type": "code",
   "execution_count": 2,
   "metadata": {},
   "outputs": [],
   "source": [
    "model_image = load_model('fb_temp_3.h5')\n",
    "model_eyes = load_model('eyes_only_addmult_Adam.h5')"
   ]
  },
  {
   "cell_type": "code",
   "execution_count": 3,
   "metadata": {},
   "outputs": [],
   "source": [
    "dataset_dir = 'small_size_data'\n",
    "img_dir = dataset_dir + '/test/images/'"
   ]
  },
  {
   "cell_type": "code",
   "execution_count": 4,
   "metadata": {},
   "outputs": [],
   "source": [
    "images = sorted(os.listdir(img_dir))\n",
    "# mac specific .DS_STORE \n",
    "if images[0] == '.DS_Store':\n",
    "    images.remove('.DS_Store')"
   ]
  },
  {
   "cell_type": "code",
   "execution_count": 5,
   "metadata": {},
   "outputs": [],
   "source": [
    "X = []\n",
    "for img_path in images:\n",
    "    # load image and label, resize, append\n",
    "    img = cv2.imread(img_dir + img_path)\n",
    "    img = np.float32(img) / 255\n",
    "    X.append(img)     \n",
    "X = np.array(X)\n"
   ]
  },
  {
   "cell_type": "code",
   "execution_count": 6,
   "metadata": {},
   "outputs": [],
   "source": [
    "initial_predict = model_image.predict(X)\n",
    "initial_predict = np.argmax(initial_predict, axis=3)"
   ]
  },
  {
   "cell_type": "code",
   "execution_count": 7,
   "metadata": {},
   "outputs": [
    {
     "name": "stderr",
     "output_type": "stream",
     "text": [
      "/Users/adishrao/anaconda3/lib/python3.6/site-packages/ipykernel_launcher.py:16: FutureWarning: Using a non-tuple sequence for multidimensional indexing is deprecated; use `arr[tuple(seq)]` instead of `arr[seq]`. In the future this will be interpreted as an array index, `arr[np.array(seq)]`, which will result either in an error or a different result.\n",
      "  app.launch_new_instance()\n"
     ]
    }
   ],
   "source": [
    "from scipy.ndimage.measurements import label\n",
    " \n",
    "structure = np.ones((3, 3), dtype=np.int)\n",
    "  \n",
    "for pred in initial_predict:\n",
    "    pred_copy = np.copy(pred)\n",
    "    pred_copy[ pred_copy > 0 ] = 1\n",
    " \n",
    "    labeled, ncomponents = label(pred_copy, structure)\n",
    "    unique, counts = np.unique(labeled, return_counts=True)\n",
    "    unique = list(unique)\n",
    "    counts = list(counts)\n",
    "    unique.pop(0)\n",
    "    counts.pop(0)\n",
    "    largest = counts.index(max(counts))\n",
    "    pred[[labeled!=(largest+1)]] = 0"
   ]
  },
  {
   "cell_type": "code",
   "execution_count": 8,
   "metadata": {},
   "outputs": [],
   "source": [
    "def find_middle(X):\n",
    "    for i,r in enumerate(X):\n",
    "        if 2 in r:\n",
    "            break\n",
    "    rowstart  = i\n",
    "    for i,r in enumerate(X[::-1]):\n",
    "        if 2 in r:\n",
    "            break\n",
    "    rowend  = 159 - i\n",
    "    \n",
    "    for j in range(96):\n",
    "        if 2 in X[:,j]:\n",
    "            break\n",
    "    colstart = j\n",
    "    colend = 0\n",
    "    for r in X:\n",
    "        for index,j in enumerate(r):\n",
    "            if j == 2:\n",
    "                if index>colend:\n",
    "                    colend = index\n",
    "    return (rowstart,rowend,colstart,colend)"
   ]
  },
  {
   "cell_type": "code",
   "execution_count": 9,
   "metadata": {},
   "outputs": [],
   "source": [
    "xy_list = []\n",
    "X_eyes = []\n",
    "i = 0\n",
    "for predict,img in zip(initial_predict,X):\n",
    "    rowstart,rowend,colstart,colend = find_middle(predict)\n",
    "    midY, midX = int((rowstart+rowend)/2), int((colstart+colend)/2)\n",
    "    if midX <16:\n",
    "        midX = 16\n",
    "    if midX > (95-16):\n",
    "        midX = 95 - 16\n",
    "    if midY<16 or midY>(159-16):\n",
    "        midY = 159//2\n",
    "    new_X = img[(midY-16):(midY+16),(midX-16):(midX+16)]\n",
    "    if new_X.shape != (32,32,3):\n",
    "        print(i,new_X.shape)\n",
    "    X_eyes.append(new_X)\n",
    "    i+=1\n",
    "    xy_list.append([midX,midY])\n",
    "X_eyes = np.array(X_eyes)"
   ]
  },
  {
   "cell_type": "code",
   "execution_count": 22,
   "metadata": {},
   "outputs": [
    {
     "data": {
      "text/plain": [
       "[31, 126]"
      ]
     },
     "execution_count": 22,
     "metadata": {},
     "output_type": "execute_result"
    },
    {
     "data": {
      "image/png": "[encoded data removed]",
      "text/plain": [
       "<Figure size 432x288 with 1 Axes>"
      ]
     },
     "metadata": {
      "needs_background": "light"
     },
     "output_type": "display_data"
    }
   ],
   "source": [
    "plt.imshow(X_eyes[928])\n",
    "xy_list[928]"
   ]
  },
  {
   "cell_type": "code",
   "execution_count": 12,
   "metadata": {},
   "outputs": [
    {
     "data": {
      "text/plain": [
       "[46, 128]"
      ]
     },
     "execution_count": 12,
     "metadata": {},
     "output_type": "execute_result"
    },
    {
     "data": {
      "image/png": "[encoded data removed]",
      "text/plain": [
       "<Figure size 432x288 with 1 Axes>"
      ]
     },
     "metadata": {
      "needs_background": "light"
     },
     "output_type": "display_data"
    }
   ],
   "source": [
    "plt.imshow(initial_predict[928])\n",
    "xy_list[928]"
   ]
  },
  {
   "cell_type": "code",
   "execution_count": 11,
   "metadata": {},
   "outputs": [],
   "source": [
    "initial_eye_predict = model_eyes.predict(X_eyes)\n",
    "initial_eye_predict = np.argmax(initial_eye_predict, axis=3)"
   ]
  },
  {
   "cell_type": "code",
   "execution_count": 13,
   "metadata": {},
   "outputs": [],
   "source": [
    "for (predict,eye,(midx,midy)) in zip(initial_predict,initial_eye_predict,xy_list):\n",
    "    i,j=0,0\n",
    "    for row in range(midy-16,midy+16):\n",
    "        j=0\n",
    "        for col in range(midx-16,midx+16):\n",
    "            if eye[i][j]==1:\n",
    "                predict[row][col] = 3 \n",
    "            j+=1\n",
    "        i+=1"
   ]
  },
  {
   "cell_type": "code",
   "execution_count": null,
   "metadata": {},
   "outputs": [],
   "source": [
    "def find_middle_eye(X):\n",
    "    for i,r in enumerate(X):\n",
    "        if 3 in r:\n",
    "            break\n",
    "    rowstart  = i\n",
    "    for i,r in enumerate(X[::-1]):\n",
    "        if 3 in r:\n",
    "            break\n",
    "    rowend  = 159 - i\n",
    "    \n",
    "    for j in range(96):\n",
    "        if 3 in X[:,j]:\n",
    "            break\n",
    "    colstart = j\n",
    "    colend = 0\n",
    "    for r in X:\n",
    "        for index,j in enumerate(r):\n",
    "            if j == 3:\n",
    "                if index>colend:\n",
    "                    colend = index\n",
    "    return (rowstart,rowend,colstart,colend)"
   ]
  },
  {
   "cell_type": "code",
   "execution_count": null,
   "metadata": {},
   "outputs": [],
   "source": [
    "for predict in initial_predict:\n",
    "    rowstart,rowend,colstart,colend = find_middle_eye(predict)\n",
    "    midY, midX = int((rowstart+rowend)/2), int((colstart+colend)/2)\n",
    "    predict[:(midY-40)].fill(0)\n",
    "    predict[(midY+40):].fill(0)"
   ]
  },
  {
   "cell_type": "code",
   "execution_count": 14,
   "metadata": {
    "scrolled": true
   },
   "outputs": [
    {
     "data": {
      "text/plain": [
       "<matplotlib.image.AxesImage at 0x1a37cc3cc0>"
      ]
     },
     "execution_count": 14,
     "metadata": {},
     "output_type": "execute_result"
    },
    {
     "data": {
      "image/png": "[encoded data removed]",
      "text/plain": [
       "<Figure size 432x288 with 1 Axes>"
      ]
     },
     "metadata": {
      "needs_background": "light"
     },
     "output_type": "display_data"
    }
   ],
   "source": [
    "plt.imshow(initial_predict[300])"
   ]
  },
  {
   "cell_type": "code",
   "execution_count": 15,
   "metadata": {},
   "outputs": [
    {
     "data": {
      "text/plain": [
       "<matplotlib.image.AxesImage at 0x1a3ad65cf8>"
      ]
     },
     "execution_count": 15,
     "metadata": {},
     "output_type": "execute_result"
    },
    {
     "data": {
      "image/png": "[encoded data removed]",
      "text/plain": [
       "<Figure size 432x288 with 1 Axes>"
      ]
     },
     "metadata": {
      "needs_background": "light"
     },
     "output_type": "display_data"
    }
   ],
   "source": [
    "plt.imshow(X[300])"
   ]
  },
  {
   "cell_type": "code",
   "execution_count": 16,
   "metadata": {
    "scrolled": true
   },
   "outputs": [
    {
     "data": {
      "text/plain": [
       "261669"
      ]
     },
     "execution_count": 16,
     "metadata": {},
     "output_type": "execute_result"
    }
   ],
   "source": [
    "model_eyes.count_params()+model_image.count_params()"
   ]
  },
  {
   "cell_type": "code",
   "execution_count": 17,
   "metadata": {},
   "outputs": [],
   "source": [
    "label_dir = dataset_dir + '/test/labels/'\n",
    "for pred,path in zip(initial_predict,images):\n",
    "    height = 640\n",
    "    width = 400\n",
    "    pred = np.array(pred, dtype='uint8')\n",
    "    label = cv2.resize(pred, (width, height))\n",
    "    np.save(arr=label,file=f'{label_dir}{path[:-4]}.npy')"
   ]
  },
  {
   "cell_type": "code",
   "execution_count": 4,
   "metadata": {},
   "outputs": [
    {
     "data": {
      "text/plain": [
       "62626"
      ]
     },
     "execution_count": 4,
     "metadata": {},
     "output_type": "execute_result"
    }
   ],
   "source": [
    "model_eyes.count_params()"
   ]
  },
  {
   "cell_type": "code",
   "execution_count": 5,
   "metadata": {},
   "outputs": [
    {
     "data": {
      "text/plain": [
       "199043"
      ]
     },
     "execution_count": 5,
     "metadata": {},
     "output_type": "execute_result"
    }
   ],
   "source": [
    "model_image.count_params()"
   ]
  },
  {
   "cell_type": "code",
   "execution_count": null,
   "metadata": {},
   "outputs": [],
   "source": []
  }
 ],
 "metadata": {
  "kernelspec": {
   "display_name": "Python 3",
   "language": "python",
   "name": "python3"
  },
  "language_info": {
   "codemirror_mode": {
    "name": "ipython",
    "version": 3
   },
   "file_extension": ".py",
   "mimetype": "text/x-python",
   "name": "python",
   "nbconvert_exporter": "python",
   "pygments_lexer": "ipython3",
   "version": "3.6.7"
  }
 },
 "nbformat": 4,
 "nbformat_minor": 2
}
